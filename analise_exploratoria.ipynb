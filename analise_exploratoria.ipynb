{
 "cells": [
  {
   "cell_type": "code",
   "execution_count": 127,
   "metadata": {
    "vscode": {
     "languageId": "r"
    }
   },
   "outputs": [
    {
     "data": {
      "text/html": [
       "<table class=\"dataframe\">\n",
       "<caption>A tibble: 6 × 7</caption>\n",
       "<thead>\n",
       "\t<tr><th scope=col>Cultura</th><th scope=col>Num_pes</th><th scope=col>Producao</th><th scope=col>Umid_grao</th><th scope=col>Qtd_chuva</th><th scope=col>Variedade</th><th scope=col>Tipo</th></tr>\n",
       "\t<tr><th scope=col>&lt;chr&gt;</th><th scope=col>&lt;dbl&gt;</th><th scope=col>&lt;dbl&gt;</th><th scope=col>&lt;dbl&gt;</th><th scope=col>&lt;dbl&gt;</th><th scope=col>&lt;chr&gt;</th><th scope=col>&lt;chr&gt;</th></tr>\n",
       "</thead>\n",
       "<tbody>\n",
       "\t<tr><td>Cafe</td><td>5126</td><td>38.55</td><td>13.16</td><td> 920</td><td>Arabica</td><td>Gourmet    </td></tr>\n",
       "\t<tr><td>Cafe</td><td>5459</td><td>31.47</td><td>12.42</td><td> 915</td><td>Arabica</td><td>Tradicional</td></tr>\n",
       "\t<tr><td>Cafe</td><td>4860</td><td>49.50</td><td>13.71</td><td>1032</td><td>Robusta</td><td>Tradicional</td></tr>\n",
       "\t<tr><td>Cafe</td><td>5294</td><td>34.00</td><td>12.60</td><td>1058</td><td>Arabica</td><td>Gourmet    </td></tr>\n",
       "\t<tr><td>Cafe</td><td>5130</td><td>45.80</td><td>13.66</td><td>1158</td><td>Arabica</td><td>Gourmet    </td></tr>\n",
       "\t<tr><td>Cafe</td><td>5095</td><td>40.41</td><td>13.40</td><td> 997</td><td>Arabica</td><td>Tradicional</td></tr>\n",
       "</tbody>\n",
       "</table>\n"
      ],
      "text/latex": [
       "A tibble: 6 × 7\n",
       "\\begin{tabular}{lllllll}\n",
       " Cultura & Num\\_pes & Producao & Umid\\_grao & Qtd\\_chuva & Variedade & Tipo\\\\\n",
       " <chr> & <dbl> & <dbl> & <dbl> & <dbl> & <chr> & <chr>\\\\\n",
       "\\hline\n",
       "\t Cafe & 5126 & 38.55 & 13.16 &  920 & Arabica & Gourmet    \\\\\n",
       "\t Cafe & 5459 & 31.47 & 12.42 &  915 & Arabica & Tradicional\\\\\n",
       "\t Cafe & 4860 & 49.50 & 13.71 & 1032 & Robusta & Tradicional\\\\\n",
       "\t Cafe & 5294 & 34.00 & 12.60 & 1058 & Arabica & Gourmet    \\\\\n",
       "\t Cafe & 5130 & 45.80 & 13.66 & 1158 & Arabica & Gourmet    \\\\\n",
       "\t Cafe & 5095 & 40.41 & 13.40 &  997 & Arabica & Tradicional\\\\\n",
       "\\end{tabular}\n"
      ],
      "text/markdown": [
       "\n",
       "A tibble: 6 × 7\n",
       "\n",
       "| Cultura &lt;chr&gt; | Num_pes &lt;dbl&gt; | Producao &lt;dbl&gt; | Umid_grao &lt;dbl&gt; | Qtd_chuva &lt;dbl&gt; | Variedade &lt;chr&gt; | Tipo &lt;chr&gt; |\n",
       "|---|---|---|---|---|---|---|\n",
       "| Cafe | 5126 | 38.55 | 13.16 |  920 | Arabica | Gourmet     |\n",
       "| Cafe | 5459 | 31.47 | 12.42 |  915 | Arabica | Tradicional |\n",
       "| Cafe | 4860 | 49.50 | 13.71 | 1032 | Robusta | Tradicional |\n",
       "| Cafe | 5294 | 34.00 | 12.60 | 1058 | Arabica | Gourmet     |\n",
       "| Cafe | 5130 | 45.80 | 13.66 | 1158 | Arabica | Gourmet     |\n",
       "| Cafe | 5095 | 40.41 | 13.40 |  997 | Arabica | Tradicional |\n",
       "\n"
      ],
      "text/plain": [
       "  Cultura Num_pes Producao Umid_grao Qtd_chuva Variedade Tipo       \n",
       "1 Cafe    5126    38.55    13.16      920      Arabica   Gourmet    \n",
       "2 Cafe    5459    31.47    12.42      915      Arabica   Tradicional\n",
       "3 Cafe    4860    49.50    13.71     1032      Robusta   Tradicional\n",
       "4 Cafe    5294    34.00    12.60     1058      Arabica   Gourmet    \n",
       "5 Cafe    5130    45.80    13.66     1158      Arabica   Gourmet    \n",
       "6 Cafe    5095    40.41    13.40      997      Arabica   Tradicional"
      ]
     },
     "metadata": {},
     "output_type": "display_data"
    },
    {
     "data": {
      "text/html": [
       "<table class=\"dataframe\">\n",
       "<caption>A tibble: 6 × 7</caption>\n",
       "<thead>\n",
       "\t<tr><th scope=col>Cultura</th><th scope=col>Num_plantas</th><th scope=col>Producao</th><th scope=col>Qtd_fertilizante</th><th scope=col>Indice_pluviometrico</th><th scope=col>Variedade</th><th scope=col>Fertilidade_solo</th></tr>\n",
       "\t<tr><th scope=col>&lt;chr&gt;</th><th scope=col>&lt;dbl&gt;</th><th scope=col>&lt;dbl&gt;</th><th scope=col>&lt;dbl&gt;</th><th scope=col>&lt;dbl&gt;</th><th scope=col>&lt;chr&gt;</th><th scope=col>&lt;chr&gt;</th></tr>\n",
       "</thead>\n",
       "<tbody>\n",
       "\t<tr><td>Soja</td><td>247</td><td>55.08</td><td>251</td><td> 946</td><td>Convencional</td><td>Alta </td></tr>\n",
       "\t<tr><td>Soja</td><td>275</td><td>66.70</td><td>343</td><td> 993</td><td>Convencional</td><td>Baixa</td></tr>\n",
       "\t<tr><td>Soja</td><td>258</td><td>78.08</td><td>212</td><td>1352</td><td>Transgenica </td><td>Alta </td></tr>\n",
       "\t<tr><td>Soja</td><td>285</td><td>70.88</td><td>313</td><td>1103</td><td>Transgenica </td><td>Media</td></tr>\n",
       "\t<tr><td>Soja</td><td>221</td><td>67.10</td><td>323</td><td>1117</td><td>Transgenica </td><td>Alta </td></tr>\n",
       "\t<tr><td>Soja</td><td>229</td><td>52.92</td><td>305</td><td>1373</td><td>Transgenica </td><td>Alta </td></tr>\n",
       "</tbody>\n",
       "</table>\n"
      ],
      "text/latex": [
       "A tibble: 6 × 7\n",
       "\\begin{tabular}{lllllll}\n",
       " Cultura & Num\\_plantas & Producao & Qtd\\_fertilizante & Indice\\_pluviometrico & Variedade & Fertilidade\\_solo\\\\\n",
       " <chr> & <dbl> & <dbl> & <dbl> & <dbl> & <chr> & <chr>\\\\\n",
       "\\hline\n",
       "\t Soja & 247 & 55.08 & 251 &  946 & Convencional & Alta \\\\\n",
       "\t Soja & 275 & 66.70 & 343 &  993 & Convencional & Baixa\\\\\n",
       "\t Soja & 258 & 78.08 & 212 & 1352 & Transgenica  & Alta \\\\\n",
       "\t Soja & 285 & 70.88 & 313 & 1103 & Transgenica  & Media\\\\\n",
       "\t Soja & 221 & 67.10 & 323 & 1117 & Transgenica  & Alta \\\\\n",
       "\t Soja & 229 & 52.92 & 305 & 1373 & Transgenica  & Alta \\\\\n",
       "\\end{tabular}\n"
      ],
      "text/markdown": [
       "\n",
       "A tibble: 6 × 7\n",
       "\n",
       "| Cultura &lt;chr&gt; | Num_plantas &lt;dbl&gt; | Producao &lt;dbl&gt; | Qtd_fertilizante &lt;dbl&gt; | Indice_pluviometrico &lt;dbl&gt; | Variedade &lt;chr&gt; | Fertilidade_solo &lt;chr&gt; |\n",
       "|---|---|---|---|---|---|---|\n",
       "| Soja | 247 | 55.08 | 251 |  946 | Convencional | Alta  |\n",
       "| Soja | 275 | 66.70 | 343 |  993 | Convencional | Baixa |\n",
       "| Soja | 258 | 78.08 | 212 | 1352 | Transgenica  | Alta  |\n",
       "| Soja | 285 | 70.88 | 313 | 1103 | Transgenica  | Media |\n",
       "| Soja | 221 | 67.10 | 323 | 1117 | Transgenica  | Alta  |\n",
       "| Soja | 229 | 52.92 | 305 | 1373 | Transgenica  | Alta  |\n",
       "\n"
      ],
      "text/plain": [
       "  Cultura Num_plantas Producao Qtd_fertilizante Indice_pluviometrico\n",
       "1 Soja    247         55.08    251               946                \n",
       "2 Soja    275         66.70    343               993                \n",
       "3 Soja    258         78.08    212              1352                \n",
       "4 Soja    285         70.88    313              1103                \n",
       "5 Soja    221         67.10    323              1117                \n",
       "6 Soja    229         52.92    305              1373                \n",
       "  Variedade    Fertilidade_solo\n",
       "1 Convencional Alta            \n",
       "2 Convencional Baixa           \n",
       "3 Transgenica  Alta            \n",
       "4 Transgenica  Media           \n",
       "5 Transgenica  Alta            \n",
       "6 Transgenica  Alta            "
      ]
     },
     "metadata": {},
     "output_type": "display_data"
    }
   ],
   "source": [
    "# install.packages(\"readxl\")\n",
    "# install.packages(\"dplyr\")\n",
    "# install.packages(\"ggplot2\")\n",
    "# install.packages(\"DescTools\")\n",
    "\n",
    "# library(readxl)\n",
    "# library(dplyr)\n",
    "# library(ggplot2)\n",
    "# library(DescTools)\n",
    "\n",
    "# Lendo planilha com os dados de café e soja\n",
    "df_cafe <- read_excel(\"cultivo_cafe_soja.xlsx\", sheet = \"Café\")\n",
    "df_soja <- read_excel(\"cultivo_cafe_soja.xlsx\", sheet = \"Soja\")\n",
    "\n",
    "# Exibe as 5 primeiras linhas\n",
    "head(df_cafe)\n",
    "head(df_soja)"
   ]
  },
  {
   "cell_type": "code",
   "execution_count": 128,
   "metadata": {
    "vscode": {
     "languageId": "r"
    }
   },
   "outputs": [
    {
     "name": "stdout",
     "output_type": "stream",
     "text": [
      "\u001b[90m# A tibble: 1 × 12\u001b[39m\n",
      "  media mediana  moda maximo minimo amplitude variancia desvio_padrao\n",
      "  \u001b[3m\u001b[90m<dbl>\u001b[39m\u001b[23m   \u001b[3m\u001b[90m<dbl>\u001b[39m\u001b[23m \u001b[3m\u001b[90m<dbl>\u001b[39m\u001b[23m  \u001b[3m\u001b[90m<dbl>\u001b[39m\u001b[23m  \u001b[3m\u001b[90m<dbl>\u001b[39m\u001b[23m     \u001b[3m\u001b[90m<dbl>\u001b[39m\u001b[23m     \u001b[3m\u001b[90m<dbl>\u001b[39m\u001b[23m         \u001b[3m\u001b[90m<dbl>\u001b[39m\u001b[23m\n",
      "\u001b[90m1\u001b[39m  34.7    33.8  31.8   49.5   20.4      29.1      71.7          8.46\n",
      "\u001b[90m# ℹ 4 more variables: coeficiente_variacao <dbl>, quartis <list>, decis <list>,\u001b[39m\n",
      "\u001b[90m#   centis <list>\u001b[39m\n"
     ]
    }
   ],
   "source": [
    "# Análise descritiva da produção de café da variável \"Produção\" (variável quantitativa)\n",
    "\n",
    "estatisticas_cafe <- df_cafe %>%\n",
    "  summarise(\n",
    "    media = mean(Producao, na.rm = TRUE),\n",
    "    mediana = median(Producao, na.rm = TRUE),\n",
    "    moda = Mode(Producao, na.rm = TRUE),\n",
    "    maximo = max(Producao, na.rm = TRUE),\n",
    "    minimo = min(Producao, na.rm = TRUE),\n",
    "    amplitude = diff(range(Producao, na.rm = TRUE)),\n",
    "    variancia = var(Producao, na.rm = TRUE),\n",
    "    desvio_padrao = sd(Producao, na.rm = TRUE),\n",
    "    coeficiente_variacao = (sd(Producao) / mean(Producao)) * 100,\n",
    "    quartis = list(quantile(Producao, probs = c(0.25, 0.50, 0.75), na.rm = TRUE)),\n",
    "    decis = list(quantile(Producao, probs=seq(0.1, 0.9, by = 0.1), na.rm = TRUE)),\n",
    "    centis = list(quantile(Producao, probs=seq(0.01, 0.09, by = 0.01), na.rm = TRUE))\n",
    "  )\n",
    "\n",
    "print(estatisticas_cafe)"
   ]
  },
  {
   "cell_type": "code",
   "execution_count": 129,
   "metadata": {
    "vscode": {
     "languageId": "r"
    }
   },
   "outputs": [
    {
     "data": {
      "image/png": "[encoded data removed]",
      "text/plain": [
       "plot without title"
      ]
     },
     "metadata": {
      "image/png": {
       "height": 420,
       "width": 420
      }
     },
     "output_type": "display_data"
    }
   ],
   "source": [
    "# Análise gráfica utilizando o campo \"Variedade\" da tabela de \"Café\" (variável qualitativa)\n",
    "\n",
    "ggplot(df_cafe, aes(x = Variedade)) +\n",
    "  geom_bar(fill = \"steelblue\", color = \"black\") +\n",
    "  labs(title = \"Distribuição das Variedades de Café\", x = \"Variedade\", y = \"Frequência\") +\n",
    "  theme_minimal()"
   ]
  },
  {
   "cell_type": "code",
   "execution_count": 130,
   "metadata": {
    "vscode": {
     "languageId": "r"
    }
   },
   "outputs": [
    {
     "data": {
      "image/png": "[encoded data removed]",
      "text/plain": [
       "plot without title"
      ]
     },
     "metadata": {
      "image/png": {
       "height": 420,
       "width": 420
      }
     },
     "output_type": "display_data"
    }
   ],
   "source": [
    "# Análise gráfica utilizando o campo \"Fertilidade_Solo\" da tabela de \"Soja\" (variável qualitativa)\n",
    "\n",
    "ggplot(df_soja, aes(x = Fertilidade_solo)) +\n",
    "  geom_bar(fill = \"steelblue\", color = \"black\") +\n",
    "  labs(title = \"Distribuição de fertilidade do solo\", x = \"Fertilidade\", y = \"Frequência\") +\n",
    "  theme_minimal()"
   ]
  }
 ],
 "metadata": {
  "kernelspec": {
   "display_name": "R",
   "language": "R",
   "name": "ir"
  },
  "language_info": {
   "codemirror_mode": "r",
   "file_extension": ".r",
   "mimetype": "text/x-r-source",
   "name": "R",
   "pygments_lexer": "r",
   "version": "4.4.1"
  }
 },
 "nbformat": 4,
 "nbformat_minor": 2
}
